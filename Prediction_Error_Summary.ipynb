{
 "cells": [
  {
   "cell_type": "code",
   "execution_count": null,
   "id": "initial_id",
   "metadata": {
    "ExecuteTime": {
     "end_time": "2024-03-09T16:53:04.571268400Z",
     "start_time": "2024-03-09T16:53:04.110823Z"
    },
    "collapsed": true
   },
   "outputs": [],
   "source": [
    "import pandas as pd\n",
    "pd.options.display.float_format = '{:.2f}'.format\n",
    "import numpy as np\n",
    "import matplotlib.pyplot as plt\n",
    "import seaborn as sns\n",
    "import os\n",
    "from pathlib import Path\n",
    "import sys\n",
    "import plotly\n",
    "from plotly.subplots import make_subplots\n",
    "import plotly.express as px\n",
    "import plotly.graph_objects as go\n",
    "import plotly.io as pio\n",
    "pio.renderers.default = \"browser\""
   ]
  },
  {
   "cell_type": "code",
   "execution_count": null,
   "id": "ed0a4935bdec6fd5",
   "metadata": {
    "ExecuteTime": {
     "end_time": "2024-03-09T16:53:04.585698300Z",
     "start_time": "2024-03-09T16:53:04.569266700Z"
    },
    "collapsed": false
   },
   "outputs": [],
   "source": [
    "par_dir = os.getcwd() #Parent Directory\n",
    "par_dir = Path(par_dir)\n",
    "sys.path.append(str(par_dir))\n",
    "#Change directory to parent directory if necessary\n",
    "if os.getcwd() == '/home/USACE_Modeling':\n",
    "    None\n",
    "else:\n",
    "    os.chdir(os.path.abspath(os.path.join(os.getcwd(), os.pardir)))"
   ]
  },
  {
   "cell_type": "code",
   "execution_count": null,
   "id": "d3f1be7fa0905097",
   "metadata": {
    "ExecuteTime": {
     "end_time": "2024-03-09T16:53:11.066889300Z",
     "start_time": "2024-03-09T16:53:07.100354Z"
    },
    "collapsed": false
   },
   "outputs": [],
   "source": [
    "#Basic Data\n",
    "comm_code = pd.read_csv(par_dir / 'Data' / 'WCSC_Commodity_CodesList.csv')\n",
    "#Keep unique SingleDigitCode and SingleDigitDescription from comm_code\n",
    "comm_code = comm_code[['SingleDigitCode','SingleDigitDescription']].drop_duplicates()\n",
    "#Rename SingleDigitCode to Commodity, SingleDigitDescription to Commodity_Description\n",
    "comm_code.rename(columns={'SingleDigitCode':'Commodity', 'SingleDigitDescription':'Commodity_Description'}, inplace=True)\n",
    "\n",
    "wcs_ais_df = pd.read_csv(par_dir / 'Data' / 'UARK_WCS_AIS_Compiled_NewData.csv')\n",
    "terminal_type = wcs_ais_df[['sub_folder','dominant_vessel_type']].drop_duplicates()\n",
    "\n",
    "psa = pd.read_csv(par_dir / 'Data' / 'location_with_consistent_data_newdata.csv')\n",
    "#Remove sub_folder from psa that are not in wcs_ais_df\n",
    "psa = psa[psa['sub_folder'].isin(wcs_ais_df['sub_folder'])]\n",
    "\n",
    "actuals = pd.read_csv(par_dir / 'Data' / 'UARK_WCS_AIS_Compiled_NewData_No_Aggregation.csv')\n",
    "#Keep qurater, sub_folder and columns starting with C_\n",
    "actuals = actuals[['quarter', 'sub_folder'] + [col for col in actuals.columns if col.startswith('C_')]]\n",
    "#Melt actuals\n",
    "actuals = pd.melt(actuals, id_vars=['quarter', 'sub_folder'], var_name='Commodity', value_name='Actuals')\n",
    "#Rename sub_folder to Terminal\n",
    "actuals.rename(columns={'sub_folder':'Terminal'}, inplace=True)\n",
    "#Keep only last digit of Commodity\n",
    "actuals['Commodity'] = actuals['Commodity'].str[-1]\n",
    "#Remove records where quarter are in [2021Q1, 2021Q2, 2021Q3, 2021Q4]\n",
    "actuals = actuals[~actuals['quarter'].isin(['2021Q1', '2021Q2', '2021Q3', '2021Q4'])]\n",
    "#Convert Commodity to int\n",
    "actuals['Commodity'] = actuals['Commodity'].astype(int)\n",
    "#Merge actuals with psa on Terminal on left, sub_folder on right\n",
    "actuals = pd.merge(actuals,psa, left_on='Terminal', right_on='sub_folder', how='left')\n",
    "#Drop sub_folder\n",
    "actuals.drop(columns=['sub_folder'], inplace=True)\n",
    "#Rename folder to PSA\n",
    "actuals.rename(columns={'folder':'PSA'}, inplace=True)\n",
    "actuals.head()\n",
    "#Export as commodityvolume.csv\n",
    "# actuals.to_csv('commodityvolume.csv', index=False)"
   ]
  },
  {
   "cell_type": "code",
   "execution_count": null,
   "id": "464b535cb995e8d7",
   "metadata": {
    "ExecuteTime": {
     "end_time": "2024-03-09T16:53:11.490562700Z",
     "start_time": "2024-03-09T16:53:11.413950900Z"
    },
    "collapsed": false
   },
   "outputs": [],
   "source": [
    "terminal_type[terminal_type['sub_folder']=='CC_PortOfCC_Southside Terminal']"
   ]
  },
  {
   "cell_type": "code",
   "execution_count": null,
   "id": "23ea6090b3df5e3b",
   "metadata": {
    "ExecuteTime": {
     "end_time": "2024-03-09T16:53:12.555076700Z",
     "start_time": "2024-03-09T16:53:12.525080900Z"
    },
    "collapsed": false
   },
   "outputs": [],
   "source": [
    "LSTM_folder = 'Result_3_1'\n",
    "TFT_folder = 'Result_3'\n",
    "TCN_folder = 'Result_3'"
   ]
  },
  {
   "cell_type": "code",
   "execution_count": null,
   "id": "b4ae07767bfdb285",
   "metadata": {
    "ExecuteTime": {
     "end_time": "2024-03-09T16:53:15.282709500Z",
     "start_time": "2024-03-09T16:53:13.204097Z"
    },
    "collapsed": false
   },
   "outputs": [],
   "source": [
    "#Data\n",
    "lstm = pd.read_csv(par_dir / 'Outputs' / 'LSTM_Outputs' / LSTM_folder / 'LSTM_Predictions.csv')\n",
    "tft = pd.read_csv(par_dir / 'Outputs' / 'TFT_Outputs' / TFT_folder / 'TFT_Predictions.csv')\n",
    "tcn = pd.read_csv(par_dir / 'Outputs' / 'TCN_Outputs' / TCN_folder / 'TCN_Predictions.csv')"
   ]
  },
  {
   "cell_type": "code",
   "execution_count": null,
   "id": "95519134c1fcc2f5",
   "metadata": {
    "ExecuteTime": {
     "end_time": "2024-03-09T16:53:16.046049Z",
     "start_time": "2024-03-09T16:53:16.001087700Z"
    },
    "collapsed": false
   },
   "outputs": [],
   "source": [
    "#Organize columns to [quarter, sub_folder, Actuals, Predictions, Model, Aggregation, Set, Commodity, folder\n",
    "tft = tft[['quarter', 'sub_folder', 'Actuals', 'Predictions', 'Commodity', 'Model', 'Aggregation']]\n",
    "lstm = lstm[['quarter', 'sub_folder', 'Actuals', 'Predictions', 'Commodity', 'Model', 'Aggregation']]\n",
    "tcn = tcn[['quarter', 'sub_folder', 'Actuals', 'Predictions', 'Commodity', 'Model', 'Aggregation']]\n",
    "#Rename Model to Model\n",
    "#Vertically stack the dataframes\n",
    "all_models = pd.concat([lstm,tft, tcn], axis=0)\n",
    "#Keep last digit of commodity column\n",
    "all_models['commodity'] = all_models['Commodity'].str[-1]\n",
    "#Convert Commodity to int\n",
    "all_models['Commodity'] = all_models['commodity'].astype(int)\n",
    "#Merge with comm_code to get commodity description\n",
    "all_models = pd.merge(all_models, comm_code, on='Commodity', how='left')\n",
    "#Drop Commmodity column\n",
    "# all_models.drop(columns=['Commodity'], inplace=True)\n",
    "#Rename Commodity to CommodityCode\n",
    "all_models.rename(columns={'Commodity':'CommodityCode'}, inplace=True)\n",
    "#Rename Commodity_Description to Commodity\n",
    "all_models.rename(columns={'Commodity_Description':'Commodity'}, inplace=True)\n",
    "#Merge with terminal_type to get dominant_vessel_type\n",
    "all_models = pd.merge(all_models, terminal_type, on='sub_folder', how='left')\n",
    "#Merge with psa to get folder\n",
    "all_models = pd.merge(all_models, psa, on='sub_folder', how='left')\n",
    "#Create column with value Not Categorized if Aggregation is 'No_Aggregation' else 'Categorized'\n",
    "all_models['Terminals_Categorized'] = np.where(all_models['Aggregation']=='No_Aggregation', 'Uncategorized', 'Categorized')\n",
    "#Reorganize columns to [quarter, sub_folder, Actuals, Predictions, Model, Aggregation, Set, dominant_vessel_type, Commodity, folder]\n",
    "all_models = all_models[['quarter', 'sub_folder', 'Actuals', 'Predictions', 'Model', 'folder', 'Aggregation', 'Terminals_Categorized' , 'dominant_vessel_type', 'CommodityCode', 'Commodity']]"
   ]
  },
  {
   "cell_type": "code",
   "execution_count": null,
   "id": "fcd38e7dec2a6189",
   "metadata": {
    "ExecuteTime": {
     "end_time": "2024-03-09T16:53:16.711315800Z",
     "start_time": "2024-03-09T16:53:16.668616100Z"
    },
    "collapsed": false
   },
   "outputs": [],
   "source": [
    "len(all_models)"
   ]
  },
  {
   "cell_type": "code",
   "execution_count": null,
   "id": "573b5c684c8f64e4",
   "metadata": {
    "ExecuteTime": {
     "end_time": "2024-03-09T16:53:20.163275Z",
     "start_time": "2024-03-09T16:53:20.106840400Z"
    },
    "collapsed": false
   },
   "outputs": [],
   "source": [
    "#Remove outliers\n",
    "outlier_terminals = pd.read_csv(par_dir / 'Data' / 'outlier_terminals.csv')\n",
    "outlier_terminals_commodity = pd.read_csv(par_dir / 'Data' / 'outlier_terminals_commodity.csv')\n",
    "#Remove records from outlier terminals whose sub_folder are in outlier_terminal['terminal']\n",
    "all_models = all_models[~all_models['sub_folder'].isin(outlier_terminals['terminal'])]\n",
    "#Remove records from all_models whose sub_folder is in outlier_terminals_commodity['terminal'] and CommodityCode is in outlier_terminals_commodity['commodity']\n",
    "all_models = all_models[~((all_models['sub_folder'].isin(outlier_terminals_commodity['terminal'])) & (all_models['CommodityCode'].isin(outlier_terminals_commodity['commodity'])))]\n",
    "#Rename sub_folder to Terminal, folder to PSA, dominant_vessel_type to Terminal Type, Terminals_Categorized to Categorization\n",
    "all_models.rename(columns={'sub_folder':'Terminal', 'folder':'PSA', 'dominant_vessel_type':'Terminal Type', 'Terminals_Categorized':'Categorization'}, inplace=True)\n",
    "\n",
    "#Change negative predictions to 0\n",
    "all_models['Predictions'] = np.where(all_models['Predictions']<0, 0, all_models['Predictions'])"
   ]
  },
  {
   "cell_type": "code",
   "execution_count": null,
   "id": "80d977397bb444ed",
   "metadata": {
    "ExecuteTime": {
     "end_time": "2024-03-09T16:53:20.393123Z",
     "start_time": "2024-03-09T16:53:20.344012600Z"
    },
    "collapsed": false
   },
   "outputs": [],
   "source": [
    "#Show records where Predictions are zero and Model = LSTM and Aggregation = No_Aggregation\n",
    "all_models[(all_models['Predictions']<0) & (all_models['Model']=='LSTM') & (all_models['Aggregation']=='No_Aggregation')]"
   ]
  },
  {
   "cell_type": "markdown",
   "id": "295482910633603b",
   "metadata": {
    "collapsed": false
   },
   "source": [
    "## MAPE - Testing"
   ]
  },
  {
   "cell_type": "code",
   "execution_count": null,
   "id": "235357cbd5c92aee",
   "metadata": {
    "ExecuteTime": {
     "end_time": "2024-03-09T16:53:22.489239100Z",
     "start_time": "2024-03-09T16:53:22.339290200Z"
    },
    "collapsed": false
   },
   "outputs": [],
   "source": [
    "#MAE by Model\n",
    "mape_df = all_models.copy()\n",
    "mape_df['error'] = abs(mape_df['Actuals'] - mape_df['Predictions'])\n",
    "#Sum error and Actuals by Model, Aggregation, Commodity\n",
    "mape_df = mape_df.groupby(['Model', 'CommodityCode', 'Terminal', 'PSA', 'Terminal Type', 'Categorization', 'Commodity'], as_index=False).agg({'error':'sum', 'Actuals':'sum'})\n",
    "mape_df['MAPE'] = mape_df['error']/mape_df['Actuals']*100\n",
    "mape_df.head()"
   ]
  },
  {
   "cell_type": "markdown",
   "id": "462c1357fdb61c09",
   "metadata": {
    "collapsed": false
   },
   "source": [
    "### Plots"
   ]
  },
  {
   "cell_type": "code",
   "execution_count": null,
   "id": "9cb189ff7286775",
   "metadata": {
    "ExecuteTime": {
     "end_time": "2024-03-09T16:53:25.239983800Z",
     "start_time": "2024-03-09T16:53:25.215979800Z"
    },
    "collapsed": false
   },
   "outputs": [],
   "source": [
    "#Global par#Settings for plotly graphs\n",
    "GLOBAL_LAYOUT = dict(\n",
    "    #Theme to pltoly_white\n",
    "    template='plotly_white',\n",
    "    #Title at center\n",
    "    title_x=0.5,\n",
    "    #Font size\n",
    "    font=dict(size=30),\n",
    "    #Black x and y axis lines\n",
    "    xaxis=dict(linecolor='black'),\n",
    "    yaxis=dict(linecolor='black'),\n",
    "    #No gridlines\n",
    "    xaxis_showgrid=False,\n",
    "    yaxis_showgrid=False,\n",
    ")\n",
    "#Discrete colors for Terminal Type\n",
    "c_terminal = dict(zip(mape_df['Terminal Type'].unique(), px.colors.qualitative.Safe))\n",
    "#Discrete patterns for Terminal Type\n",
    "p_terminal = dict(zip(mape_df['Terminal Type'].unique(), ['.', '/', '+','\\\\']))"
   ]
  },
  {
   "cell_type": "code",
   "execution_count": null,
   "id": "2811d52ed94e3e93",
   "metadata": {
    "ExecuteTime": {
     "end_time": "2024-03-09T16:53:37.511003700Z",
     "start_time": "2024-03-09T16:53:25.797573600Z"
    },
    "collapsed": false
   },
   "outputs": [],
   "source": [
    "#Plot for MAPE by Model and Terminal Categorization\n",
    "df = mape_df.copy()\n",
    "#Average mape by folder\n",
    "df = df.groupby(['Model', 'Categorization'], as_index=False).agg({'MAPE':'mean'})\n",
    "#Get value of Model and Categorization for lowest MAPE\n",
    "best_model = df[df['MAPE']==df['MAPE'].min()][['Model', 'Categorization']].values[0][0]\n",
    "best_category = df[df['MAPE']==df['MAPE'].min()][['Model', 'Categorization']].values[0][1]\n",
    "\n",
    "#Plot df\n",
    "fig = px.bar(df, x='Model', y='MAPE', color='Categorization', barmode='group', title='MAPE by Model and Terminal Categorization')\n",
    "#Rename y axis label to MAPE (%)\n",
    "fig.update_yaxes(title_text='MAPE (%)')\n",
    "#Show mape on the top center of each bar\n",
    "fig.update_traces(texttemplate='%{y:.1f}'+'%', textposition='outside')\n",
    "#Update layout\n",
    "fig.update_layout(GLOBAL_LAYOUT)\n",
    "fig.show()\n",
    "df.head()"
   ]
  },
  {
   "cell_type": "code",
   "execution_count": null,
   "id": "d3548e5e4fb44513",
   "metadata": {
    "ExecuteTime": {
     "end_time": "2024-03-09T16:53:47.528147800Z",
     "start_time": "2024-03-09T16:53:46.768679700Z"
    },
    "collapsed": false
   },
   "outputs": [],
   "source": [
    "#Plot for MAPE by Model for Uncategorized\n",
    "df = mape_df.copy()\n",
    "#Keep records where Categorization = Uncategorized\n",
    "# df = df[df['Categorization']=='Uncategorized']\n",
    "#Average mape by folder\n",
    "df = df.groupby(['Model', 'Categorization'], as_index=False).agg({'MAPE':'mean'})\n",
    "#Plot df\n",
    "fig = px.bar(df, x='Model', y='MAPE', color='Categorization',title='MAPE by Model', barmode='group')\n",
    "#Rename y axis label to MAPE (%)\n",
    "fig.update_yaxes(title_text='MAPE (%)')\n",
    "#Show mape on the top center of each bar\n",
    "fig.update_traces(texttemplate='%{y:.1f}'+'%', textposition='outside')\n",
    "#Update layout\n",
    "fig.update_layout(GLOBAL_LAYOUT)\n",
    "fig.update_layout(legend=dict(yanchor=\"top\", y=1.05, xanchor=\"left\", x=0.01))\n",
    "fig.show()"
   ]
  },
  {
   "cell_type": "code",
   "execution_count": null,
   "id": "6906ba8928884aea",
   "metadata": {
    "ExecuteTime": {
     "end_time": "2024-03-09T16:53:51.279456500Z",
     "start_time": "2024-03-09T16:53:51.247193300Z"
    },
    "collapsed": false
   },
   "outputs": [],
   "source": [
    "df = mape_df[(mape_df['Categorization']=='Uncategorized')]\n",
    "#Average mape by folder\n",
    "df = df.groupby(['Model','Terminal'], as_index=False).agg({'MAPE':'mean'})"
   ]
  },
  {
   "cell_type": "code",
   "execution_count": null,
   "id": "9455401118e21694",
   "metadata": {
    "ExecuteTime": {
     "end_time": "2024-03-09T16:53:52.327388400Z",
     "start_time": "2024-03-09T16:53:52.239310Z"
    },
    "collapsed": false
   },
   "outputs": [],
   "source": [
    "terminal_example = 'tampa_tanker_manatee_county'\n",
    "commodity_example = 2\n",
    "# df[df['Terminal']==terminal_example]"
   ]
  },
  {
   "cell_type": "code",
   "execution_count": null,
   "id": "58ab5a8ee8a98fe2",
   "metadata": {
    "ExecuteTime": {
     "end_time": "2024-03-09T16:53:53.302378Z",
     "start_time": "2024-03-09T16:53:53.241386400Z"
    },
    "collapsed": false
   },
   "outputs": [],
   "source": [
    "tft_lstm_compare = all_models[(all_models['Terminal']==terminal_example) & (all_models['Categorization']=='Uncategorized')]\n",
    "#Keep records from tft_lstm_compare whose Terminal is terminal_example and commodity is commodity_example\n",
    "tft_lstm_compare = tft_lstm_compare[(tft_lstm_compare['Terminal']==terminal_example) & (tft_lstm_compare['CommodityCode']==commodity_example)]\n",
    "tft_lstm_compare.head()"
   ]
  },
  {
   "cell_type": "code",
   "execution_count": null,
   "id": "d4951ba84dc09484",
   "metadata": {
    "ExecuteTime": {
     "end_time": "2024-03-09T16:53:55.329915100Z",
     "start_time": "2024-03-09T16:53:55.003932900Z"
    },
    "collapsed": false
   },
   "outputs": [],
   "source": [
    "#Create line plot of actuals vs quarter from actuals dataframe for Terminal = terminal_example and Commodity = commodity_example\n",
    "actuals_plot = actuals[(actuals['Terminal']==terminal_example)&(actuals['Commodity']==commodity_example)].copy()\n",
    "fig = px.line(actuals_plot, x='quarter', y='Actuals')\n",
    "#Add horizontal average line for training quarters from 2016Q1 to 2018Q4\n",
    "fig.add_hline(y=actuals_plot[(actuals_plot['quarter']>='2016Q1') & (actuals_plot['quarter']<='2018Q4')]['Actuals'].mean(), line_dash=\"dash\", line_color=\"green\", annotation_text=\"Average of Training Set\", annotation_position=\"top left\")\n",
    "\n",
    "# Add actuals line with a legend\n",
    "fig.add_trace(go.Scatter(x=actuals_plot['quarter'], y=actuals_plot['Actuals'], mode='lines', name='Actuals'))\n",
    "#Add Predictions from tft_lstm_compare to fig where Model= LSTM\n",
    "fig.add_scatter(x=tft_lstm_compare[tft_lstm_compare['Model']=='LSTM']['quarter'], y=tft_lstm_compare[tft_lstm_compare['Model']=='LSTM']['Predictions'], mode='lines', name='LSTM')\n",
    "#Add Predictions from tft_lstm_compare to fig where Model= TFT\n",
    "fig.add_scatter(x=tft_lstm_compare[tft_lstm_compare['Model']=='TFT']['quarter'], y=tft_lstm_compare[tft_lstm_compare['Model']=='TFT']['Predictions'], mode='lines', name='TFT')\n",
    "#Add Predictions from tft_lstm_compare to fig where Model= TCN\n",
    "fig.add_scatter(x=tft_lstm_compare[tft_lstm_compare['Model']=='TCN']['quarter'], y=tft_lstm_compare[tft_lstm_compare['Model']=='TCN']['Predictions'], mode='lines', name='TCN')\n",
    "#Add Title\n",
    "fig.update_layout(title='Actuals vs Predictions for '+terminal_example+' and Commodity = Petroleum')\n",
    "#Rename y axis label to Tons\n",
    "fig.update_yaxes(title_text='Tons')\n",
    "fig.update_layout(GLOBAL_LAYOUT)\n",
    "#Show legend\n",
    "fig.show()"
   ]
  },
  {
   "cell_type": "markdown",
   "id": "53bac576c88ab5dd",
   "metadata": {
    "collapsed": false
   },
   "source": [
    "### Plots for Best Model"
   ]
  },
  {
   "cell_type": "code",
   "execution_count": null,
   "id": "c8f8debf4bc389d9",
   "metadata": {
    "ExecuteTime": {
     "end_time": "2024-03-09T16:54:02.007300700Z",
     "start_time": "2024-03-09T16:54:01.970570600Z"
    },
    "collapsed": false
   },
   "outputs": [],
   "source": [
    "px.colors.qualitative.Safe"
   ]
  },
  {
   "cell_type": "code",
   "execution_count": null,
   "id": "bb3abf19771e4ce2",
   "metadata": {
    "ExecuteTime": {
     "end_time": "2024-03-09T16:54:48.163741700Z",
     "start_time": "2024-03-09T16:54:47.195902300Z"
    },
    "collapsed": false
   },
   "outputs": [],
   "source": [
    "#Plot of number of terminals by Terminal Type\n",
    "df = mape_df.copy()\n",
    "df = df[['Terminal','PSA','Terminal Type']].drop_duplicates()\n",
    "#Count number of terminals by Terminal Type\n",
    "df = df.groupby(['Terminal Type'], as_index=False).agg({'Terminal':'count'})\n",
    "#Rename Terminal to Number of Terminals\n",
    "df.rename(columns={'Terminal':'Number of Terminals'}, inplace=True)\n",
    "#Sort df by Number of Terminals\n",
    "df.sort_values(by='Number of Terminals', inplace=True)\n",
    "#Replace Tug_Tow to Tug/Tow\n",
    "df['Terminal Type'] = np.where(df['Terminal Type']=='Tug_Tow', 'Tug/Tow', df['Terminal Type'])\n",
    "\n",
    "\n",
    "\n",
    "\n",
    "#Plot df\n",
    "fig = px.bar(df, \n",
    "             x='Terminal Type', \n",
    "             y='Number of Terminals', \n",
    "             title='Terminal Types Based on Vessel Visits', \n",
    "             color='Terminal Type',\n",
    "             color_discrete_map=c_terminal,\n",
    "             pattern_shape='Terminal Type',\n",
    "             pattern_shape_map=p_terminal)\n",
    "#Change x-axis label to Terminal Type\n",
    "fig.update_xaxes(title_text='Vessel Type')\n",
    "#Black font\n",
    "fig.update_layout(font=dict(color='black'))\n",
    "#Bold font\n",
    "fig.update_layout(font=dict(family=\"Arial, Bold\"))\n",
    "\n",
    "#Remove horizontal grid lines\n",
    "fig.update_yaxes(showgrid=False)\n",
    "#Center the title\n",
    "fig.update_layout(title_x=0.5)\n",
    "#Black x and y axis\n",
    "fig.update_xaxes(linecolor='black', mirror=False)\n",
    "fig.update_yaxes(linecolor='black', mirror=False)\n",
    "fig.update_traces(texttemplate='%{y:.0f}', textposition='outside')\n",
    "fig.update_layout(GLOBAL_LAYOUT)\n",
    "#Hide legend\n",
    "fig.update_layout(coloraxis_showscale=False)\n",
    "#25 font size\n",
    "fig.update_layout(font=dict(size=38))\n",
    "#Hide lengend\n",
    "fig.update_layout(showlegend=False)\n",
    "fig.show()"
   ]
  },
  {
   "cell_type": "code",
   "execution_count": null,
   "id": "7b7f1958738e279",
   "metadata": {
    "ExecuteTime": {
     "end_time": "2024-03-09T16:54:52.230655Z",
     "start_time": "2024-03-09T16:54:52.190001800Z"
    },
    "collapsed": false
   },
   "outputs": [],
   "source": [
    "#Model for figures\n",
    "category_name = 'Uncategorized'\n",
    "fig_model_df = mape_df[(mape_df['Categorization']==category_name)]\n",
    "fig_model_df"
   ]
  },
  {
   "cell_type": "code",
   "execution_count": null,
   "id": "930b4e10036ebcff",
   "metadata": {
    "ExecuteTime": {
     "end_time": "2024-03-09T16:54:53.158205200Z",
     "start_time": "2024-03-09T16:54:53.123208800Z"
    },
    "collapsed": false
   },
   "outputs": [],
   "source": [
    "#Sort fig_model_df by MAPE\n",
    "df = fig_model_df.copy()\n",
    "df = df[df['Model']=='LSTM']\n",
    "df.sort_values(by='MAPE', ascending=False)"
   ]
  },
  {
   "cell_type": "code",
   "execution_count": null,
   "id": "7560f0fdd2a9c3c4",
   "metadata": {
    "ExecuteTime": {
     "end_time": "2024-03-09T16:54:54.042196700Z",
     "start_time": "2024-03-09T16:54:54.000202200Z"
    },
    "collapsed": false
   },
   "outputs": [],
   "source": [
    "actuals[(actuals['Terminal']=='Wilmington_NCSPABerths1_9') & (actuals['Commodity']==6)]"
   ]
  },
  {
   "cell_type": "code",
   "execution_count": null,
   "id": "7ebbf0c4accc8bb6",
   "metadata": {
    "ExecuteTime": {
     "end_time": "2024-03-09T16:55:03.388654400Z",
     "start_time": "2024-03-09T16:54:54.970518700Z"
    },
    "collapsed": false
   },
   "outputs": [],
   "source": [
    "#By Terminal Type\n",
    "df = fig_model_df.copy()\n",
    "df = df[df['Model']=='LSTM']\n",
    "#Average mape by Terminal Type\n",
    "df = df.groupby(['Terminal Type', 'Model'], as_index=False).agg({'MAPE':'mean'})\n",
    "#Sort df by MAPE\n",
    "df.sort_values(by='MAPE', inplace=True)\n",
    "#Change Tug_Tow to Tug/Tow\n",
    "df['Terminal Type'] = np.where(df['Terminal Type']=='Tug_Tow', 'Tug/Tow', df['Terminal Type'])\n",
    "#Plot df\n",
    "fig = px.bar(df, x='Terminal Type', y='MAPE', title='MAPE by Terminal Type', color='Terminal Type', \n",
    "             color_discrete_map=c_terminal,\n",
    "             pattern_shape='Terminal Type',\n",
    "                pattern_shape_map=p_terminal)\n",
    "#Add black border to bars\n",
    "# fig.update_traces(marker_line_color='black', marker_line_width=1.5, opacity=0.8)\n",
    "#Rename y axis label to MAPE (%)\n",
    "fig.update_yaxes(title_text='MAPE (%)')\n",
    "fig.update_traces(texttemplate='%{y:.1f}'+'%', textposition='outside')\n",
    "fig.update_layout(GLOBAL_LAYOUT)\n",
    "#Legend\n",
    "fig.update_layout(showlegend=False)\n",
    "fig.show()"
   ]
  },
  {
   "cell_type": "code",
   "execution_count": null,
   "id": "945f7c4b1d8b4286",
   "metadata": {
    "ExecuteTime": {
     "end_time": "2024-03-09T16:55:11.408295900Z",
     "start_time": "2024-03-09T16:55:10.490634200Z"
    },
    "collapsed": false
   },
   "outputs": [],
   "source": [
    "#Plot of MAPE by PSA and Average Volume\n",
    "df = fig_model_df.copy()\n",
    "#Average mape by PSA\n",
    "df = df.groupby(['PSA'], as_index=False).agg({'MAPE':'mean'})\n",
    "\n",
    "#Average Actuals by PSA\n",
    "#Sum Actuals by PSA and quarter\n",
    "actuals_psa_avg = actuals.groupby(['PSA', 'quarter'], as_index=False).agg({'Actuals':'sum'})\n",
    "#Average of Actuals by PSA\n",
    "actuals_psa_avg = actuals_psa_avg.groupby(['PSA'], as_index=False).agg({'Actuals':'mean'})\n",
    "#Rename Actuals to Average Volume\n",
    "actuals_psa_avg.rename(columns={'Actuals':'Average Volume'}, inplace=True)\n",
    "\n",
    "#Sort df in the same order as actuals_psa_avg\n",
    "df = pd.merge(df, actuals_psa_avg[['PSA', 'Average Volume']], on='PSA')\n",
    "#Sort by Average Volume\n",
    "df.sort_values(by='Average Volume', inplace=True)\n",
    "\n",
    "#Plot df as line plot with PSA as x-axis and y-axis as MAPE\n",
    "fig = px.line(df, x='PSA', y='MAPE', title='MAPE by PSA')\n",
    "fig.add_trace(go.Scatter(x=df['PSA'], y=df['MAPE'], mode='lines+markers', name='MAPE'))\n",
    "fig.update_yaxes(title_text='MAPE (%)')\n",
    "fig.add_trace(go.Bar(x=df['PSA'], y=df['Average Volume'], name='Average Volume', yaxis='y2', opacity=0.8))\n",
    "# Update layout to add secondary y-axis\n",
    "fig.update_layout(\n",
    "    yaxis2=dict(\n",
    "        title='Tons',\n",
    "        overlaying='y',\n",
    "        side='right'\n",
    "    )\n",
    ")\n",
    "#Show legend in bottom right\n",
    "fig.update_layout(legend=dict(\n",
    "    orientation=\"h\",\n",
    "    yanchor=\"bottom\",\n",
    "    y=1.02,\n",
    "    xanchor=\"right\",\n",
    "    x=1\n",
    "))\n",
    "fig.update_layout(GLOBAL_LAYOUT)\n",
    "fig.show()"
   ]
  },
  {
   "cell_type": "code",
   "execution_count": null,
   "id": "a7464e749b33573d",
   "metadata": {
    "ExecuteTime": {
     "end_time": "2024-03-09T16:55:16.701482200Z",
     "start_time": "2024-03-09T16:55:16.333620300Z"
    },
    "collapsed": false
   },
   "outputs": [],
   "source": [
    "#Plot by Commodity\n",
    "df =fig_model_df.copy()\n",
    "#Average mape by Commodity\n",
    "df = df.groupby(['Model','Commodity'], as_index=False).agg({'MAPE':'mean'})\n",
    "#Sort df by MAPE\n",
    "df.sort_values(by='MAPE', inplace=True)\n",
    "#Change All Manufactured Equipment, Machinery, and Products to All Manufactured Products; Chemicals and Related Products to Chemicals, Primary Manufactured Goods to Primary Manufactured Goods; Crude Materials, Inedible Except Fuels to Crude Materials; Petroleum and Petroleum Products to Petroleum Products; Coal, Lignite & coal Coke to Coal Products\n",
    "df['Commodity'] = np.where(df['Commodity']=='All Manufactured Equipment, Machinery and Products', 'All Manufactured Products', df['Commodity'])\n",
    "df['Commodity'] = np.where(df['Commodity']=='Chemicals and Related Products', 'Chemicals', df['Commodity'])\n",
    "df['Commodity'] = np.where(df['Commodity']=='Primary Manufactured Goods', 'Primary Manufactured Goods', df['Commodity'])\n",
    "df['Commodity'] = np.where(df['Commodity']=='Crude Materials, Inedible Except Fuels', 'Crude Materials', df['Commodity'])\n",
    "df['Commodity'] = np.where(df['Commodity']=='Petroleum and Petroleum Products', 'Petroleum Products', df['Commodity'])\n",
    "df['Commodity'] = np.where(df['Commodity']=='Coal,Lignite & Coal Coke', 'Coal Products', df['Commodity'])\n",
    "\n",
    "#Sort by Commodity, Model\n",
    "df.sort_values(by=['Commodity', 'Model'], inplace=True)\n",
    "#Plot df\n",
    "fig = px.bar(df, x='Commodity', y='MAPE', title='MAPE by Commodity', color='Model', barmode='group')\n",
    "#Rename y axis label to MAPE (%)\n",
    "fig.update_yaxes(title_text='MAPE (%)')\n",
    "fig.update_traces(texttemplate='%{y:.1f}'+'%', textposition='outside')\n",
    "#X-axis label at 45 degree angle\n",
    "fig.update_xaxes(tickangle=0)\n",
    "fig.update_layout(GLOBAL_LAYOUT)\n",
    "#Reduce font size of x-axis labels\n",
    "fig.update_xaxes(tickfont=dict(size=18))\n",
    "fig.show()"
   ]
  },
  {
   "cell_type": "code",
   "execution_count": null,
   "id": "e5d7b1ffdac37507",
   "metadata": {
    "ExecuteTime": {
     "end_time": "2024-03-09T16:55:20.914341500Z",
     "start_time": "2024-03-09T16:55:20.593953900Z"
    },
    "collapsed": false
   },
   "outputs": [],
   "source": [
    "#Plot by Commodity and Terminal Type\n",
    "df =fig_model_df.copy()\n",
    "df = df[df['Model']=='LSTM']\n",
    "#Average mape by Commodity\n",
    "df = df.groupby(['Terminal Type','Commodity'], as_index=False).agg({'MAPE':'mean'})\n",
    "#Sort df by MAPE\n",
    "df.sort_values(by='MAPE', inplace=True)\n",
    "#Change All Manufactured Equipment, Machinery, and Products to All Manufactured Products; Chemicals and Related Products to Chemicals, Primary Manufactured Goods to Primary Manufactured Goods; Crude Materials, Inedible Except Fuels to Crude Materials; Petroleum and Petroleum Products to Petroleum Products; Coal, Lignite & coal Coke to Coal Products\n",
    "df['Commodity'] = np.where(df['Commodity']=='All Manufactured Equipment, Machinery and Products', 'All Manufactured Products', df['Commodity'])\n",
    "df['Commodity'] = np.where(df['Commodity']=='Chemicals and Related Products', 'Chemicals', df['Commodity'])\n",
    "df['Commodity'] = np.where(df['Commodity']=='Primary Manufactured Goods', 'Primary Manufactured Goods', df['Commodity'])\n",
    "df['Commodity'] = np.where(df['Commodity']=='Crude Materials, Inedible Except Fuels', 'Crude Materials', df['Commodity'])\n",
    "df['Commodity'] = np.where(df['Commodity']=='Petroleum and Petroleum Products', 'Petroleum Products', df['Commodity'])\n",
    "df['Commodity'] = np.where(df['Commodity']=='Coal,Lignite & Coal Coke', 'Coal Products', df['Commodity'])\n",
    "\n",
    "#Sort by Commodity, Model\n",
    "df.sort_values(by=['Commodity', 'Terminal Type'], inplace=True)\n",
    "#Plot df\n",
    "fig = px.bar(df, x='Commodity', y='MAPE', title='MAPE by Commodity', color='Terminal Type', barmode='group')\n",
    "#Rename y axis label to MAPE (%)\n",
    "fig.update_yaxes(title_text='MAPE (%)')\n",
    "fig.update_traces(texttemplate='%{y:.1f}'+'%', textposition='outside')\n",
    "#X-axis label at 45 degree angle\n",
    "fig.update_xaxes(tickangle=0)\n",
    "fig.update_layout(GLOBAL_LAYOUT)\n",
    "#Reduce font size of x-axis labels\n",
    "fig.update_xaxes(tickfont=dict(size=18))\n",
    "#Hide legend\n",
    "fig.update_layout(showlegend=True, legend=dict(yanchor=\"top\", y=0.99, xanchor=\"left\", x=0.01))\n",
    "fig.show()"
   ]
  },
  {
   "cell_type": "code",
   "execution_count": null,
   "id": "b1d471447594ab35",
   "metadata": {
    "ExecuteTime": {
     "end_time": "2024-03-09T16:55:25.292466700Z",
     "start_time": "2024-03-09T16:55:25.037890800Z"
    },
    "collapsed": false
   },
   "outputs": [],
   "source": [
    "#Show records from all_model where Predictions=0\n",
    "zero_predict = all_models[all_models['Predictions']==0]\n",
    "#Count number of records by Commodity\n",
    "zero_predict = zero_predict.groupby(['Commodity'], as_index=False).agg({'Predictions':'count'})\n",
    "#Rename Predictions to Number of Quarters\n",
    "zero_predict.rename(columns={'Predictions':'Number of Quarters with 0 prediction'}, inplace=True)\n",
    "#Sort in order\n",
    "zero_predict.sort_values(by='Number of Quarters with 0 prediction', inplace=True)\n",
    "\n",
    "#Count Number of records by Commodity\n",
    "num_records_by_com = all_models.groupby(['Commodity'], as_index=False).agg({'Terminal':'count'})\n",
    "#Rename Terminal to Total Number of Records\n",
    "num_records_by_com.rename(columns={'Terminal':'Total Number of Records'}, inplace=True)\n",
    "#Merge with zero_predict on Commodity\n",
    "zero_predict = pd.merge(zero_predict, num_records_by_com, on='Commodity', how='left')\n",
    "#Percentage of records with 0 prediction\n",
    "zero_predict['Percentage of records with 0 prediction'] = zero_predict['Number of Quarters with 0 prediction']/zero_predict['Total Number of Records']*100\n",
    "#Sort by Percentage of records with 0 prediction\n",
    "zero_predict.sort_values(by='Percentage of records with 0 prediction', inplace=True)\n",
    "\n",
    "#Plot zero_predict as bar plot\n",
    "fig = px.bar(zero_predict, x='Commodity', y='Percentage of records with 0 prediction', title='Percentage of Records with Prediction = 0 tons')\n",
    "fig.update_traces(texttemplate='%{y:.1f}', textposition='outside')\n",
    "fig.update_layout(GLOBAL_LAYOUT)\n",
    "fig.show()"
   ]
  },
  {
   "cell_type": "code",
   "execution_count": null,
   "id": "8647f7259e929230",
   "metadata": {
    "collapsed": false
   },
   "outputs": [],
   "source": [
    "# df = best_model_df.copy()\n",
    "# \n",
    "# num_com_by_term = all_models[['Terminal', 'PSA', 'CommodityCode']].drop_duplicates() #Number of commodities handled by each terminal\n",
    "# #Count number of CommodityCode by Terminal\n",
    "# num_com_by_term = num_com_by_term.groupby(['Terminal', 'PSA'], as_index=False).agg({'CommodityCode':'count'})\n",
    "# #Rename CommodityCode to Number of Commodities\n",
    "# num_com_by_term.rename(columns={'CommodityCode':'Number of Commodities'}, inplace=True)\n",
    "# \n",
    "# #Merge with df on Termina\n",
    "# df = pd.merge(df, num_com_by_term, on=['Terminal', 'PSA'], how='left')\n",
    "# \n",
    "# #Average mape by Number of Commodities\n",
    "# df = df.groupby(['Number of Commodities'], as_index=False).agg({'MAPE':'mean'})\n",
    "# #Sort df by MAPE\n",
    "# df.sort_values(by='MAPE', inplace=True)\n",
    "# df"
   ]
  },
  {
   "cell_type": "code",
   "execution_count": null,
   "id": "81f583f147e94659",
   "metadata": {
    "ExecuteTime": {
     "end_time": "2024-03-09T16:55:29.178497300Z",
     "start_time": "2024-03-09T16:55:28.799016Z"
    },
    "collapsed": false
   },
   "outputs": [],
   "source": [
    "#Plot of histogram of MAPE by Terminal\n",
    "df = fig_model_df.copy()\n",
    "#Average of MAPE by Terminal\n",
    "df = df.groupby(['Terminal'], as_index=False).agg({'MAPE':'mean'})\n",
    "#Create bins for MAPE with interval of 10\n",
    "df['MAPE_bins'] = pd.cut(df['MAPE'], bins=np.arange(0, 2000, 5))\n",
    "#COnvert MAPE_bins to string\n",
    "df['MAPE_bins'] = df['MAPE_bins'].astype(str)\n",
    "\n",
    "#Count number of records by MAPE_bins\n",
    "df = df.groupby(['MAPE_bins'], as_index=False).agg({'Terminal':'count'})\n",
    "#Rename Terminal to Number of Terminals\n",
    "df.rename(columns={'Terminal':'Number of Terminals'}, inplace=True)\n",
    "#Create Rank columm with value between ( and , in MAPE_bins\n",
    "df['Rank'] = df['MAPE_bins'].str.split(',').str[0].str[1:]\n",
    "df['Rank'] = df['Rank'].astype(int)\n",
    "#Sort df by Rank\n",
    "df.sort_values(by='Rank', inplace=True)\n",
    "#Create cumulative sum of Number of Terminals\n",
    "df['Cumulative Terminals'] = df['Number of Terminals'].cumsum()\n",
    "#Create cumulative sum of Number of Terminals as percentage of total Number of Terminals\n",
    "df['Percentage of Terminals'] = df['Cumulative Terminals']/df['Number of Terminals'].sum()*100\n",
    "# Plot bar plot of df\n",
    "fig = px.bar(df, x='MAPE_bins', y='Number of Terminals', title='Histogram of MAPE')\n",
    "\n",
    "# Add labels in the middle of each bin\n",
    "fig.update_traces(texttemplate='%{y:.0f}', textposition='outside')\n",
    "\n",
    "# Rename MAPE_bins to MAPE (%)\n",
    "fig.update_xaxes(title_text='MAPE (%)')\n",
    "#Rename y axis label to Number of Terminals / Percentage of Terminals\n",
    "fig.update_yaxes(title_text='Number of Terminals / Percentage of Terminals')\n",
    "\n",
    "# Add line plot for cumulative percentage of terminals as step plot\n",
    "fig.add_trace(go.Scatter(\n",
    "    x=df['MAPE_bins'],\n",
    "    y=df['Percentage of Terminals'],\n",
    "    mode='lines+markers',\n",
    "    name='Cumulative Percentage of Terminals',\n",
    "    line=dict(shape='hv')\n",
    "))\n",
    "\n",
    "# Add labels to the line plot\n",
    "for i, label in enumerate(df['Percentage of Terminals']):\n",
    "    fig.add_annotation(\n",
    "        go.layout.Annotation(\n",
    "            x=df['MAPE_bins'].iloc[i],\n",
    "            y=label,\n",
    "            text=f\"{label:.1f}%\",\n",
    "            #Font color to dark red and size to 17\n",
    "            font=dict(color='darkred', size=17),\n",
    "            showarrow=True,\n",
    "            arrowhead=5,\n",
    "            ax=0,\n",
    "            ay=-40\n",
    "        )\n",
    "    )\n",
    "fig.update_layout(legend=dict(yanchor=\"top\", y=0.99, xanchor=\"left\", x=0.01))\n",
    "fig.update_layout(GLOBAL_LAYOUT)\n",
    "# Show the figure\n",
    "fig.show()"
   ]
  },
  {
   "cell_type": "code",
   "execution_count": null,
   "id": "9c2ad1cf8cd8ba7f",
   "metadata": {
    "ExecuteTime": {
     "end_time": "2024-03-09T16:57:05.822071Z",
     "start_time": "2024-03-09T16:57:05.571878900Z"
    },
    "collapsed": false
   },
   "outputs": [],
   "source": [
    "#Plot of histogram of MAPE by Terminal and Commodity combination\n",
    "df = mape_df[(mape_df['Categorization']==category_name)&(mape_df['Model']=='LSTM')].copy()\n",
    "\n",
    "#Create bins for MAPE with interval of 10\n",
    "df['MAPE_bins'] = pd.cut(df['MAPE'], bins=np.arange(0, 2000, 5))\n",
    "#COnvert MAPE_bins to string\n",
    "df['MAPE_bins'] = df['MAPE_bins'].astype(str)\n",
    "\n",
    "#Count number of records by MAPE_bins\n",
    "df = df.groupby(['MAPE_bins'], as_index=False).agg({'Terminal':'count'})\n",
    "#Rename Terminal to Number of Terminals\n",
    "df.rename(columns={'Terminal':'Number of Terminals'}, inplace=True)\n",
    "#Create Rank columm with value between ( and , in MAPE_bins\n",
    "df['Rank'] = df['MAPE_bins'].str.split(',').str[0].str[1:]\n",
    "df['Rank'] = df['Rank'].astype(int)\n",
    "#Sort df by Rank\n",
    "df.sort_values(by='Rank', inplace=True)\n",
    "#Create cumulative sum of Number of Terminals\n",
    "df['Cumulative Terminals'] = df['Number of Terminals'].cumsum()\n",
    "#Create cumulative sum of Number of Terminals as percentage of total Number of Terminals\n",
    "df['Percentage of Terminals'] = df['Cumulative Terminals']/df['Number of Terminals'].sum()*100\n",
    "# Plot bar plot of df\n",
    "fig = px.bar(df, x='MAPE_bins', y='Number of Terminals')\n",
    "\n",
    "# Add labels in the middle of each bin\n",
    "fig.update_traces(texttemplate='%{y:.0f}', textposition='outside')\n",
    "\n",
    "\n",
    "\n",
    "\n",
    "# Rename MAPE_bins to MAPE (%)\n",
    "fig.update_xaxes(title_text='MAPE (%)')\n",
    "#Rename y axis label to Number of Terminals / Percentage of Terminals\n",
    "fig.update_yaxes(title_text='Number (Percentage) of Terminals-Commodity Combination', tickfont=dict(size=2))\n",
    "\n",
    "# Add line plot for cumulative percentage of terminals as step plot\n",
    "fig.add_trace(go.Scatter(\n",
    "    x=df['MAPE_bins'],\n",
    "    y=df['Percentage of Terminals'],\n",
    "    mode='lines+markers',\n",
    "    name='Cumulative Percentage of Terminals and Commodity',\n",
    "    line=dict(shape='hv'),\n",
    "    textfont=dict(size=5)\n",
    "))\n",
    "\n",
    "# Add labels to the line plot\n",
    "for i, label in enumerate(df['Percentage of Terminals']):\n",
    "    fig.add_annotation(\n",
    "        go.layout.Annotation(\n",
    "            x=df['MAPE_bins'].iloc[i],\n",
    "            y=label,\n",
    "            text=f\"{label:.1f}%\",\n",
    "            #Font color to dark red and size to 17\n",
    "            font=dict(color='darkred', size=18),\n",
    "            showarrow=True,\n",
    "            arrowhead=5,\n",
    "            ax=0,\n",
    "            ay=-40\n",
    "        )\n",
    "    )\n",
    "    \n",
    "\n",
    "fig.update_layout(GLOBAL_LAYOUT)\n",
    "\n",
    "fig.update_layout(legend=dict(yanchor=\"top\", y=0.99, xanchor=\"left\", x=0.01))\n",
    "\n",
    "# Show the figure\n",
    "fig.show()\n",
    "# df.to_csv('Distribution of MAPE for LSTM.csv', index=False)"
   ]
  },
  {
   "cell_type": "code",
   "execution_count": null,
   "id": "1afd2b1adf09140e",
   "metadata": {
    "ExecuteTime": {
     "end_time": "2024-01-26T17:57:49.720643300Z",
     "start_time": "2024-01-26T17:57:49.419122700Z"
    },
    "collapsed": false
   },
   "outputs": [],
   "source": [
    "#Number of terminals by Commodity group\n",
    "df = fig_model_df[['Terminal','Commodity', 'Terminal Type']].drop_duplicates(keep='first')\n",
    "df['Commodity'] = np.where(df['Commodity']=='All Manufactured Equipment, Machinery and Products', 'All Manufactured Products', df['Commodity'])\n",
    "df['Commodity'] = np.where(df['Commodity']=='Chemicals and Related Products', 'Chemicals', df['Commodity'])\n",
    "df['Commodity'] = np.where(df['Commodity']=='Primary Manufactured Goods', 'Primary Manufactured Goods', df['Commodity'])\n",
    "df['Commodity'] = np.where(df['Commodity']=='Crude Materials, Inedible Except Fuels', 'Crude Materials', df['Commodity'])\n",
    "df['Commodity'] = np.where(df['Commodity']=='Petroleum and Petroleum Products', 'Petroleum Products', df['Commodity'])\n",
    "df['Commodity'] = np.where(df['Commodity']=='Coal,Lignite & Coal Coke', 'Coal Products', df['Commodity'])\n",
    "df['Terminal Type'] = np.where((df['Terminal Type']=='Tug_Tow'), 'Tug/Tow', df['Terminal Type'])\n",
    "\n",
    "#Sort by Commodity, Terminal Type\n",
    "df.sort_values(by=['Commodity', 'Terminal Type'], inplace=True)\n",
    "#Plot number of terminals by Commodity group and Terminal Type\n",
    "fig = px.histogram(df, x='Commodity', \n",
    "                   color='Terminal Type',\n",
    "                     color_discrete_map=c_terminal,\n",
    "                   pattern_shape='Terminal Type',\n",
    "                     pattern_shape_map=p_terminal,\n",
    "                   title='Number of Terminals by Commodity Group and Terminal Type',)\n",
    "#Rename y axis label to Number of Terminals\n",
    "fig.update_yaxes(title_text='Number of Terminals')\n",
    "#Rename x axis label to Commodity Group\n",
    "fig.update_xaxes(title_text='Commodity Group')\n",
    "fig.update_layout(GLOBAL_LAYOUT)\n",
    "#Add labels\n",
    "fig.update_traces(texttemplate='%{y:.0f}', textposition='auto',textfont=dict(size=18))\n",
    "fig.update_layout(showlegend=True, legend=dict(yanchor=\"top\", y=0.99, xanchor=\"left\", x=0.01))\n",
    "\n",
    "#X axis label at 0 degree with font size 18\n",
    "\n",
    "fig.show()"
   ]
  },
  {
   "cell_type": "code",
   "execution_count": null,
   "id": "e2d12b1bf325f222",
   "metadata": {
    "ExecuteTime": {
     "end_time": "2024-03-09T17:00:08.389757900Z",
     "start_time": "2024-03-09T17:00:08.265088400Z"
    },
    "collapsed": false
   },
   "outputs": [],
   "source": [
    "#Lineplot for quarterly volume of comoodity by terminal type\n",
    "df = actuals.copy()\n",
    "#Sum Actuals by quarter and Commodity\n",
    "df = df.groupby(['quarter', 'Commodity'], as_index=False).agg({'Actuals':'sum'})\n",
    "#Rename Actuals to Quarterly Volume\n",
    "df.rename(columns = {'Actuals':'Quarterly Volume'}, inplace=True)\n",
    "#Merge with comm_code to get commodity description\n",
    "df = pd.merge(df, comm_code, on='Commodity', how='left')\n",
    "#Drop Commmodity column\n",
    "df.drop(columns = ['Commodity'], inplace=True)\n",
    "#Rename Commodity_Description to Commodity\n",
    "df.rename(columns = {'Commodity_Description':'Commodity'}, inplace=True)\n",
    "\n",
    "df['Commodity'] = np.where(df['Commodity']=='All Manufactured Equipment, Machinery and Products', 'All Manufactured Products', df['Commodity'])\n",
    "df['Commodity'] = np.where(df['Commodity']=='Chemicals and Related Products', 'Chemicals', df['Commodity'])\n",
    "df['Commodity'] = np.where(df['Commodity']=='Primary Manufactured Goods', 'Primary Manufactured Goods', df['Commodity'])\n",
    "df['Commodity'] = np.where(df['Commodity']=='Crude Materials, Inedible Except Fuels', 'Crude Materials', df['Commodity'])\n",
    "df['Commodity'] = np.where(df['Commodity']=='Petroleum and Petroleum Products', 'Petroleum Products', df['Commodity'])\n",
    "df['Commodity'] = np.where(df['Commodity']=='Coal,Lignite & Coal Coke', 'Coal Products', df['Commodity'])\n",
    "\n",
    "#Remove records where Commodity starts with Waste or Unknown\n",
    "df = df[~df['Commodity'].str.startswith('Waste')]\n",
    "df = df[~df['Commodity'].str.startswith('Unknown')]\n",
    "\n",
    "#Plot df as line plot with quarter as x-axis and y-axis as Quarterly Volume\n",
    "fig = px.line(df, x='quarter', y='Quarterly Volume', color='Commodity', title='Quarterly Volume by Commodity', line_dash='Commodity')\n",
    "#Rename y axis label to Quarterly Volume (Tons)\n",
    "fig.update_yaxes(title_text='Quarterly Volume (Tons)')\n",
    "#Rename x axis label to Quarter\n",
    "fig.update_xaxes(title_text='Quarter')\n",
    "#Add legend in top right\n",
    "fig.update_layout(legend=dict(yanchor=\"top\", y=0.70, xanchor=\"right\", x=0.99))\n",
    "#Add labels\n",
    "# fig.update_traces(texttemplate='%{y:.0f}', textposition='auto',textfont=dict(size=18))\n",
    "fig.update_layout(GLOBAL_LAYOUT)\n",
    "fig.update_xaxes(tickangle=270)\n",
    "fig.show()\n",
    "# df.to_csv('Quarterly volume (in tons) by commodity group.csv', index=False)"
   ]
  },
  {
   "cell_type": "code",
   "execution_count": null,
   "id": "d605ab3596a60b27",
   "metadata": {
    "collapsed": false
   },
   "outputs": [],
   "source": []
  }
 ],
 "metadata": {
  "kernelspec": {
   "display_name": "Python 3",
   "language": "python",
   "name": "python3"
  },
  "language_info": {
   "codemirror_mode": {
    "name": "ipython",
    "version": 3
   },
   "file_extension": ".py",
   "mimetype": "text/x-python",
   "name": "python",
   "nbconvert_exporter": "python",
   "pygments_lexer": "ipython3",
   "version": "3.10.6"
  }
 },
 "nbformat": 4,
 "nbformat_minor": 5
}
